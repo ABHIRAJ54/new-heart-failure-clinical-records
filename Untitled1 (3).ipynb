{
  "nbformat": 4,
  "nbformat_minor": 0,
  "metadata": {
    "colab": {
      "name": "Untitled1.ipynb",
      "provenance": []
    },
    "kernelspec": {
      "name": "python3",
      "display_name": "Python 3"
    },
    "language_info": {
      "name": "python"
    }
  },
  "cells": [
    {
      "cell_type": "code",
      "execution_count": 1,
      "metadata": {
        "colab": {
          "base_uri": "https://localhost:8080/"
        },
        "id": "luBFhwW2CKsu",
        "outputId": "c60a7c24-82cb-48be-89c3-f19b798dbc5d"
      },
      "outputs": [
        {
          "output_type": "stream",
          "name": "stdout",
          "text": [
            "Mounted at /content/drive/\n"
          ]
        }
      ],
      "source": [
        "from google.colab import drive\n",
        "drive.mount (\"/content/drive/\") "
      ]
    },
    {
      "cell_type": "code",
      "source": [
        "import pandas as pd\n",
        "df=pd.read_csv('/content/drive/MyDrive/heart_failure_clinical_records_dataset.csv')"
      ],
      "metadata": {
        "id": "zmUUlg6GCXJw"
      },
      "execution_count": 2,
      "outputs": []
    },
    {
      "cell_type": "code",
      "source": [
        "df.describe\n",
        "df=df.fillna(0)"
      ],
      "metadata": {
        "id": "8gxefIbTCgqw"
      },
      "execution_count": 3,
      "outputs": []
    },
    {
      "cell_type": "code",
      "source": [
        "df.describe"
      ],
      "metadata": {
        "colab": {
          "base_uri": "https://localhost:8080/"
        },
        "id": "NKZiIQDbClgo",
        "outputId": "775b9c1d-0987-48a8-9952-7983800a1dfb"
      },
      "execution_count": 4,
      "outputs": [
        {
          "output_type": "execute_result",
          "data": {
            "text/plain": [
              "<bound method NDFrame.describe of       age  anaemia  creatinine_phosphokinase  ...  smoking  time  DEATH_EVENT\n",
              "0    75.0        0                       582  ...        0     4            1\n",
              "1    55.0        0                      7861  ...        0     6            1\n",
              "2    65.0        0                       146  ...        1     7            1\n",
              "3    50.0        1                       111  ...        0     7            1\n",
              "4    65.0        1                       160  ...        0     8            1\n",
              "..    ...      ...                       ...  ...      ...   ...          ...\n",
              "294  62.0        0                        61  ...        1   270            0\n",
              "295  55.0        0                      1820  ...        0   271            0\n",
              "296  45.0        0                      2060  ...        0   278            0\n",
              "297  45.0        0                      2413  ...        1   280            0\n",
              "298  50.0        0                       196  ...        1   285            0\n",
              "\n",
              "[299 rows x 13 columns]>"
            ]
          },
          "metadata": {},
          "execution_count": 4
        }
      ]
    },
    {
      "cell_type": "code",
      "source": [
        "import numpy as np\n",
        "from matplotlib import pyplot as plt"
      ],
      "metadata": {
        "id": "VwXmTiSuCrkP"
      },
      "execution_count": 5,
      "outputs": []
    },
    {
      "cell_type": "code",
      "source": [
        "x1=df['age']\n",
        "x2=df['anaemia']\n",
        "x3=df['high_blood_pressure']\n",
        "x4=df['creatinine_phosphokinase']\n",
        "x5=df['diabetes']\n",
        "x6=df['ejection_fraction']\n",
        "x7=df['platelets']\n",
        "x8=df['sex']\n",
        "x9=df['serum_creatinine']\n",
        "x10=df['serum_sodium']\n",
        "x11=df['smoking']\n",
        "x12=df['time']\n",
        "y=df['DEATH_EVENT']\n",
        "size=x1.size\n",
        "print(x1,x2,x3,x4,x5,x6,x7,x8,x9,x10,x11,x12,y)"
      ],
      "metadata": {
        "colab": {
          "base_uri": "https://localhost:8080/"
        },
        "id": "PUVLpD5nC0q8",
        "outputId": "285ad90a-3c92-40ab-98d8-2369c4df024d"
      },
      "execution_count": 6,
      "outputs": [
        {
          "output_type": "stream",
          "name": "stdout",
          "text": [
            "0      75.0\n",
            "1      55.0\n",
            "2      65.0\n",
            "3      50.0\n",
            "4      65.0\n",
            "       ... \n",
            "294    62.0\n",
            "295    55.0\n",
            "296    45.0\n",
            "297    45.0\n",
            "298    50.0\n",
            "Name: age, Length: 299, dtype: float64 0      0\n",
            "1      0\n",
            "2      0\n",
            "3      1\n",
            "4      1\n",
            "      ..\n",
            "294    0\n",
            "295    0\n",
            "296    0\n",
            "297    0\n",
            "298    0\n",
            "Name: anaemia, Length: 299, dtype: int64 0      1\n",
            "1      0\n",
            "2      0\n",
            "3      0\n",
            "4      0\n",
            "      ..\n",
            "294    1\n",
            "295    0\n",
            "296    0\n",
            "297    0\n",
            "298    0\n",
            "Name: high_blood_pressure, Length: 299, dtype: int64 0       582\n",
            "1      7861\n",
            "2       146\n",
            "3       111\n",
            "4       160\n",
            "       ... \n",
            "294      61\n",
            "295    1820\n",
            "296    2060\n",
            "297    2413\n",
            "298     196\n",
            "Name: creatinine_phosphokinase, Length: 299, dtype: int64 0      0\n",
            "1      0\n",
            "2      0\n",
            "3      0\n",
            "4      1\n",
            "      ..\n",
            "294    1\n",
            "295    0\n",
            "296    1\n",
            "297    0\n",
            "298    0\n",
            "Name: diabetes, Length: 299, dtype: int64 0      20\n",
            "1      38\n",
            "2      20\n",
            "3      20\n",
            "4      20\n",
            "       ..\n",
            "294    38\n",
            "295    38\n",
            "296    60\n",
            "297    38\n",
            "298    45\n",
            "Name: ejection_fraction, Length: 299, dtype: int64 0      265000.00\n",
            "1      263358.03\n",
            "2      162000.00\n",
            "3      210000.00\n",
            "4      327000.00\n",
            "         ...    \n",
            "294    155000.00\n",
            "295    270000.00\n",
            "296    742000.00\n",
            "297    140000.00\n",
            "298    395000.00\n",
            "Name: platelets, Length: 299, dtype: float64 0      1\n",
            "1      1\n",
            "2      1\n",
            "3      1\n",
            "4      0\n",
            "      ..\n",
            "294    1\n",
            "295    0\n",
            "296    0\n",
            "297    1\n",
            "298    1\n",
            "Name: sex, Length: 299, dtype: int64 0      1.9\n",
            "1      1.1\n",
            "2      1.3\n",
            "3      1.9\n",
            "4      2.7\n",
            "      ... \n",
            "294    1.1\n",
            "295    1.2\n",
            "296    0.8\n",
            "297    1.4\n",
            "298    1.6\n",
            "Name: serum_creatinine, Length: 299, dtype: float64 0      130\n",
            "1      136\n",
            "2      129\n",
            "3      137\n",
            "4      116\n",
            "      ... \n",
            "294    143\n",
            "295    139\n",
            "296    138\n",
            "297    140\n",
            "298    136\n",
            "Name: serum_sodium, Length: 299, dtype: int64 0      0\n",
            "1      0\n",
            "2      1\n",
            "3      0\n",
            "4      0\n",
            "      ..\n",
            "294    1\n",
            "295    0\n",
            "296    0\n",
            "297    1\n",
            "298    1\n",
            "Name: smoking, Length: 299, dtype: int64 0        4\n",
            "1        6\n",
            "2        7\n",
            "3        7\n",
            "4        8\n",
            "      ... \n",
            "294    270\n",
            "295    271\n",
            "296    278\n",
            "297    280\n",
            "298    285\n",
            "Name: time, Length: 299, dtype: int64 0      1\n",
            "1      1\n",
            "2      1\n",
            "3      1\n",
            "4      1\n",
            "      ..\n",
            "294    0\n",
            "295    0\n",
            "296    0\n",
            "297    0\n",
            "298    0\n",
            "Name: DEATH_EVENT, Length: 299, dtype: int64\n"
          ]
        }
      ]
    },
    {
      "cell_type": "code",
      "source": [
        "import random\n",
        "x1_train=[]\n",
        "x2_train=[]\n",
        "x3_train=[]\n",
        "x4_train=[]\n",
        "x5_train=[]\n",
        "x6_train=[]\n",
        "x7_train=[]\n",
        "x8_train=[]\n",
        "x9_train=[]\n",
        "x10_train=[]\n",
        "x11_train=[]\n",
        "x12_train=[]\n",
        "y_train=[]\n",
        "\n",
        "for j in range(0,1):\n",
        "  for i in range(0,300,2):\n",
        "    x1_train.append(x1[i])\n",
        "    x2_train.append(x2[i])\n",
        "    x3_train.append(x3[i])\n",
        "    x4_train.append(x4[i])\n",
        "    x5_train.append(x5[i])\n",
        "    x6_train.append(x6[i])\n",
        "    x7_train.append(x7[i])\n",
        "    x8_train.append(x8[i])\n",
        "    x9_train.append(x8[i])\n",
        "    x10_train.append(x8[i])\n",
        "    x11_train.append(x8[i])\n",
        "    x12_train.append(x8[i])\n",
        "    y_train.append(y[i])"
      ],
      "metadata": {
        "id": "zyZ0GfMSE6gl"
      },
      "execution_count": 7,
      "outputs": []
    },
    {
      "cell_type": "code",
      "source": [
        "x1_test=[]\n",
        "x2_test=[]\n",
        "x3_test=[]\n",
        "x4_test=[]\n",
        "x5_test=[]\n",
        "x6_test=[]\n",
        "x7_test=[]\n",
        "x8_test=[]\n",
        "x9_test=[]\n",
        "x10_test=[]\n",
        "x11_test=[]\n",
        "x12_test=[]\n",
        "y_test=[]\n",
        "for i in range(1,300):\n",
        "  for i in range(0,300,2):\n",
        "    x1_test.append(x1[i])\n",
        "    x2_test.append(x2[i])\n",
        "    x3_test.append(x3[i])\n",
        "    x4_test.append(x4[i])\n",
        "    x5_test.append(x5[i])\n",
        "    x6_test.append(x6[i])\n",
        "    x7_test.append(x7[i])\n",
        "    x8_test.append(x8[i])\n",
        "    x9_test.append(x8[i])\n",
        "    x10_test.append(x8[i])\n",
        "    x11_test.append(x8[i])\n",
        "    x12_test.append(x8[i])\n",
        "    y_test.append(y[i])"
      ],
      "metadata": {
        "id": "MqRHOIg4FjQS"
      },
      "execution_count": 8,
      "outputs": []
    },
    {
      "cell_type": "code",
      "source": [
        "e=[]\n",
        "ee=[]\n",
        "def linear(m1,m2,m3,m4,m5,m6,m7,m8,m9,m10,m11,m12,c):\n",
        "  sum=0\n",
        "  yp=[]\n",
        "  for i in range(0,len(x8_train)):\n",
        "    yp.append(m1*x1_train[i]+m2*x2_train[i]+m3*x3_train[i]+m4*x4_train[i]+m5*x5_train[i]+m6*x6_train[i]+m7*x7_train[i]+m8*x8_train[i]+m9*x9_train[i]+m10*x10_train[i]+m11*x11_train[i]+m12*x12_train[i]+c)\n",
        "    g=(y_train[i]-yp[i])**2\n",
        "    sum=sum+g\n",
        "  e.append(sum)\n",
        "  ee.append(np.mod(sum,len(x1_train)))\n",
        "  print(m1,m2,m3,m4,m5,m6,m7,m8,m9,m10,m11,m12,c,np.mod(sum,len(x12_train)))\n",
        "  sum=0\n",
        "\n",
        "for i in range(1,100):\n",
        "  linear(1+i,2+i,3+i,4+i,5+i,6+i,7+i,8+i,9+i,10+i,11+i,12+i,13+i)"
      ],
      "metadata": {
        "colab": {
          "base_uri": "https://localhost:8080/"
        },
        "id": "X8tfTRJqGP_R",
        "outputId": "d231ab86-c870-42ed-eee7-a9253cd774d2"
      },
      "execution_count": 9,
      "outputs": [
        {
          "output_type": "stream",
          "name": "stdout",
          "text": [
            "2 3 4 5 6 7 8 9 10 11 12 13 14 106.125\n",
            "3 4 5 6 7 8 9 10 11 12 13 14 15 100.75\n",
            "4 5 6 7 8 9 10 11 12 13 14 15 16 41.5\n",
            "5 6 7 8 9 10 11 12 13 14 15 16 17 77.25\n",
            "6 7 8 9 10 11 12 13 14 15 16 17 18 59.25\n",
            "7 8 9 10 11 12 13 14 15 16 17 18 19 137.25\n",
            "8 9 10 11 12 13 14 15 16 17 18 19 20 10.5\n",
            "9 10 11 12 13 14 15 16 17 18 19 20 21 129.0\n",
            "10 11 12 13 14 15 16 17 18 19 20 21 22 44.5\n",
            "11 12 13 14 15 16 17 18 19 20 21 22 23 54.0\n",
            "12 13 14 15 16 17 18 19 20 21 22 23 24 11.5\n",
            "13 14 15 16 17 18 19 20 21 22 23 24 25 63.5\n",
            "14 15 16 17 18 19 20 21 22 23 24 25 26 62.0\n",
            "15 16 17 18 19 20 21 22 23 24 25 26 27 5.0\n",
            "16 17 18 19 20 21 22 23 24 25 26 27 28 42.0\n",
            "17 18 19 20 21 22 23 24 25 26 27 28 29 28.0\n",
            "18 19 20 21 22 23 24 25 26 27 28 29 30 111.0\n",
            "19 20 21 22 23 24 25 26 27 28 29 30 31 136.0\n",
            "20 21 22 23 24 25 26 27 28 29 30 31 32 108.0\n",
            "21 22 23 24 25 26 27 28 29 30 31 32 33 25.0\n",
            "22 23 24 25 26 27 28 29 30 31 32 33 34 40.0\n",
            "23 24 25 26 27 28 29 30 31 32 33 34 35 146.0\n",
            "24 25 26 27 28 29 30 31 32 33 34 35 36 50.0\n",
            "25 26 27 28 29 30 31 32 33 34 35 36 37 48.0\n",
            "26 27 28 29 30 31 32 33 34 35 36 37 38 148.0\n",
            "27 28 29 30 31 32 33 34 35 36 37 38 39 34.0\n",
            "28 29 30 31 32 33 34 35 36 37 38 39 40 18.0\n",
            "29 30 31 32 33 34 35 36 37 38 39 40 41 100.0\n",
            "30 31 32 33 34 35 36 37 38 39 40 41 42 126.0\n",
            "31 32 33 34 35 36 37 38 39 40 41 42 43 108.0\n",
            "32 33 34 35 36 37 38 39 40 41 42 43 44 30.0\n",
            "33 34 35 36 37 38 39 40 41 42 43 44 45 42.0\n",
            "34 35 36 37 38 39 40 41 42 43 44 45 46 6.0\n",
            "35 36 37 38 39 40 41 42 43 44 45 46 47 60.0\n",
            "36 37 38 39 40 41 42 43 44 45 46 47 48 70.0\n",
            "37 38 39 40 41 42 43 44 45 46 47 48 49 8.0\n",
            "38 39 40 41 42 43 44 45 46 47 48 49 50 52.0\n",
            "39 40 41 42 43 44 45 46 47 48 49 50 51 32.0\n",
            "40 41 42 43 44 45 46 47 48 49 50 51 52 134.0\n",
            "41 42 43 44 45 46 47 48 49 50 51 52 53 10.0\n",
            "42 43 44 45 46 47 48 49 50 51 52 53 54 142.0\n",
            "43 44 45 46 47 48 49 50 51 52 53 54 55 56.0\n",
            "44 45 46 47 48 49 50 51 52 53 54 55 56 80.0\n",
            "45 46 47 48 49 50 51 52 53 54 55 56 57 44.0\n",
            "46 47 48 49 50 51 52 53 54 55 56 57 58 110.0\n",
            "47 48 49 50 51 52 53 54 55 56 57 58 59 112.0\n",
            "48 49 50 51 52 53 54 55 56 57 58 59 60 66.0\n",
            "49 50 51 52 53 54 55 56 57 58 59 60 61 102.0\n",
            "50 51 52 53 54 55 56 57 58 59 60 61 62 102.0\n",
            "51 52 53 54 55 56 57 58 59 60 61 62 63 38.0\n",
            "52 53 54 55 56 57 58 59 60 61 62 63 64 84.0\n",
            "53 54 55 56 57 58 59 60 61 62 63 64 65 66.0\n",
            "54 55 56 57 58 59 60 61 62 63 64 65 66 126.0\n",
            "55 56 57 58 59 60 61 62 63 64 65 66 67 4.0\n",
            "56 57 58 59 60 61 62 63 64 65 66 67 68 126.0\n",
            "57 58 59 60 61 62 63 64 65 66 67 68 69 34.0\n",
            "58 59 60 61 62 63 64 65 66 67 68 69 70 36.0\n",
            "59 60 61 62 63 64 65 66 67 68 69 70 71 148.0\n",
            "60 61 62 63 64 65 66 67 68 69 70 71 72 38.0\n",
            "61 62 63 64 65 66 67 68 69 70 71 72 73 46.0\n",
            "62 63 64 65 66 67 68 69 70 71 72 73 74 116.0\n",
            "63 64 65 66 67 68 69 70 71 72 73 74 75 28.0\n",
            "64 65 66 67 68 69 70 71 72 73 74 75 76 18.0\n",
            "65 66 67 68 69 70 71 72 73 74 75 76 77 86.0\n",
            "66 67 68 69 70 71 72 73 74 75 76 77 78 114.0\n",
            "67 68 69 70 71 72 73 74 75 76 77 78 79 126.0\n",
            "68 69 70 71 72 73 74 75 76 77 78 79 80 18.0\n",
            "69 70 71 72 73 74 75 76 77 78 79 80 81 12.0\n",
            "70 71 72 73 74 75 76 77 78 79 80 81 82 116.0\n",
            "71 72 73 74 75 76 77 78 79 80 81 82 83 14.0\n",
            "72 73 74 75 76 77 78 79 80 81 82 83 84 22.0\n",
            "73 74 75 76 77 78 79 80 81 82 83 84 85 124.0\n",
            "74 75 76 77 78 79 80 81 82 83 84 85 86 36.0\n",
            "75 76 77 78 79 80 81 82 83 84 85 86 87 144.0\n",
            "76 77 78 79 80 81 82 83 84 85 86 87 88 78.0\n",
            "77 78 79 80 81 82 83 84 85 86 87 88 89 122.0\n",
            "78 79 80 81 82 83 84 85 86 87 88 89 90 62.0\n",
            "79 80 81 82 83 84 85 86 87 88 89 90 91 26.0\n",
            "80 81 82 83 84 85 86 87 88 89 90 91 92 36.0\n",
            "81 82 83 84 85 86 87 88 89 90 91 92 93 22.0\n",
            "82 83 84 85 86 87 88 89 90 91 92 93 94 70.0\n",
            "83 84 85 86 87 88 89 90 91 92 93 94 95 62.0\n",
            "84 85 86 87 88 89 90 91 92 93 94 95 96 14.0\n",
            "85 86 87 88 89 90 91 92 93 94 95 96 97 92.0\n",
            "86 87 88 89 90 91 92 93 94 95 96 97 98 50.0\n",
            "87 88 89 90 91 92 93 94 95 96 97 98 99 32.0\n",
            "88 89 90 91 92 93 94 95 96 97 98 99 100 28.0\n",
            "89 90 91 92 93 94 95 96 97 98 99 100 101 32.0\n",
            "90 91 92 93 94 95 96 97 98 99 100 101 102 82.0\n",
            "91 92 93 94 95 96 97 98 99 100 101 102 103 108.0\n",
            "92 93 94 95 96 97 98 99 100 101 102 103 104 78.0\n",
            "93 94 95 96 97 98 99 100 101 102 103 104 105 8.0\n",
            "94 95 96 97 98 99 100 101 102 103 104 105 106 86.0\n",
            "95 96 97 98 99 100 101 102 103 104 105 106 107 102.0\n",
            "96 97 98 99 100 101 102 103 104 105 106 107 108 132.0\n",
            "97 98 99 100 101 102 103 104 105 106 107 108 109 4.0\n",
            "98 99 100 101 102 103 104 105 106 107 108 109 110 40.0\n",
            "99 100 101 102 103 104 105 106 107 108 109 110 111 84.0\n",
            "100 101 102 103 104 105 106 107 108 109 110 111 112 104.0\n"
          ]
        }
      ]
    },
    {
      "cell_type": "code",
      "source": [
        "print(ee)"
      ],
      "metadata": {
        "colab": {
          "base_uri": "https://localhost:8080/"
        },
        "id": "y4lLfhO3G_YD",
        "outputId": "2fde5186-2c49-41bc-80dd-d4c8a7090dfb"
      },
      "execution_count": 10,
      "outputs": [
        {
          "output_type": "stream",
          "name": "stdout",
          "text": [
            "[106.125, 100.75, 41.5, 77.25, 59.25, 137.25, 10.5, 129.0, 44.5, 54.0, 11.5, 63.5, 62.0, 5.0, 42.0, 28.0, 111.0, 136.0, 108.0, 25.0, 40.0, 146.0, 50.0, 48.0, 148.0, 34.0, 18.0, 100.0, 126.0, 108.0, 30.0, 42.0, 6.0, 60.0, 70.0, 8.0, 52.0, 32.0, 134.0, 10.0, 142.0, 56.0, 80.0, 44.0, 110.0, 112.0, 66.0, 102.0, 102.0, 38.0, 84.0, 66.0, 126.0, 4.0, 126.0, 34.0, 36.0, 148.0, 38.0, 46.0, 116.0, 28.0, 18.0, 86.0, 114.0, 126.0, 18.0, 12.0, 116.0, 14.0, 22.0, 124.0, 36.0, 144.0, 78.0, 122.0, 62.0, 26.0, 36.0, 22.0, 70.0, 62.0, 14.0, 92.0, 50.0, 32.0, 28.0, 32.0, 82.0, 108.0, 78.0, 8.0, 86.0, 102.0, 132.0, 4.0, 40.0, 84.0, 104.0]\n"
          ]
        }
      ]
    },
    {
      "cell_type": "code",
      "source": [
        "a=np.array(ee).min()\n",
        "print(a)\n",
        "c=np.where(ee==a)"
      ],
      "metadata": {
        "colab": {
          "base_uri": "https://localhost:8080/"
        },
        "id": "Q6opUGdpHoLV",
        "outputId": "0fcbda86-ec28-4626-f868-3b58e87523c5"
      },
      "execution_count": 11,
      "outputs": [
        {
          "output_type": "stream",
          "name": "stdout",
          "text": [
            "4.0\n"
          ]
        }
      ]
    },
    {
      "cell_type": "code",
      "source": [
        "print(c)"
      ],
      "metadata": {
        "colab": {
          "base_uri": "https://localhost:8080/"
        },
        "id": "ru_usysDH0nE",
        "outputId": "954bf4a3-33bb-489b-b8da-55fd656ec038"
      },
      "execution_count": 12,
      "outputs": [
        {
          "output_type": "stream",
          "name": "stdout",
          "text": [
            "(array([53, 95]),)\n"
          ]
        }
      ]
    },
    {
      "cell_type": "code",
      "source": [
        "ee1=np.arange(0,99)\n",
        "print(ee1)"
      ],
      "metadata": {
        "colab": {
          "base_uri": "https://localhost:8080/"
        },
        "id": "cKLjaOVlH4SC",
        "outputId": "04ce038c-e48f-451d-f4d5-f41b9547026f"
      },
      "execution_count": 13,
      "outputs": [
        {
          "output_type": "stream",
          "name": "stdout",
          "text": [
            "[ 0  1  2  3  4  5  6  7  8  9 10 11 12 13 14 15 16 17 18 19 20 21 22 23\n",
            " 24 25 26 27 28 29 30 31 32 33 34 35 36 37 38 39 40 41 42 43 44 45 46 47\n",
            " 48 49 50 51 52 53 54 55 56 57 58 59 60 61 62 63 64 65 66 67 68 69 70 71\n",
            " 72 73 74 75 76 77 78 79 80 81 82 83 84 85 86 87 88 89 90 91 92 93 94 95\n",
            " 96 97 98]\n"
          ]
        }
      ]
    },
    {
      "cell_type": "code",
      "source": [
        "import numpy as np\n",
        "z=[]\n",
        "zz=[]\n",
        "def linear1(m1,m2,m3,m4,m5,m6,m7,m8,m9,m10,m11,m12,c):\n",
        "  sum=0\n",
        "  yp=[]\n",
        "  j=0\n",
        "  for i in range(1,80):\n",
        "    yp.append(m1*x1[i]+m2*x2[i]+m3*x3[i]+m4*x4[i]+m5*x5[i]+m6*x6[i]+m7*x7[i]+m8*x8[i]+m9*x9[i]+m10*x10[i]+m11*x11[i]+m12*x12[i]+c)\n",
        "    g=(y[i]-yp[j])**2\n",
        "    j=j+1\n",
        "    sum=sum+g\n",
        "  z.append(sum)\n",
        "  zz.append(np.mod(sum,4735))\n",
        "  print(m1,m2,m3,m4,m5,m6,m7,m8,m9,m10,m11,m12,c,np.mod(sum,4735))\n",
        "linear1(53,54,55,56,57,58,59,60,61,62,63,64,65)"
      ],
      "metadata": {
        "colab": {
          "base_uri": "https://localhost:8080/"
        },
        "id": "j8nnWlCksArt",
        "outputId": "79c457d1-b044-4b0f-cf30-b41275c57997"
      },
      "execution_count": 16,
      "outputs": [
        {
          "output_type": "stream",
          "name": "stdout",
          "text": [
            "53 54 55 56 57 58 59 60 61 62 63 64 65 1021.0\n"
          ]
        }
      ]
    }
  ]
}